{
  "nbformat": 4,
  "nbformat_minor": 0,
  "metadata": {
    "colab": {
      "provenance": [],
      "authorship_tag": "ABX9TyNhWS3MPlnSMD9FpdcdwSld",
      "include_colab_link": true
    },
    "kernelspec": {
      "name": "python3",
      "display_name": "Python 3"
    },
    "language_info": {
      "name": "python"
    }
  },
  "cells": [
    {
      "cell_type": "markdown",
      "metadata": {
        "id": "view-in-github",
        "colab_type": "text"
      },
      "source": [
        "<a href=\"https://colab.research.google.com/github/kdena005/CSC221_kdena005/blob/main/Assignment4.ipynb\" target=\"_parent\"><img src=\"https://colab.research.google.com/assets/colab-badge.svg\" alt=\"Open In Colab\"/></a>"
      ]
    },
    {
      "cell_type": "code",
      "execution_count": null,
      "metadata": {
        "id": "mZRwLaF_MwzM"
      },
      "outputs": [],
      "source": [
        "friends = [\"Jermy\",\"justion\",\"jack\",\"BRI\"]\n",
        "print(friends)\n"
      ]
    },
    {
      "cell_type": "code",
      "source": [
        "guest = [\"Jermy\",\"justion\",\"jack\",\"BRI\"]\n",
        "print(guest)\n",
        "print(guest[0] +\"can not make it\")"
      ],
      "metadata": {
        "colab": {
          "base_uri": "https://localhost:8080/"
        },
        "id": "93YPiUQ9Nign",
        "outputId": "1df5d6d5-7644-4c4c-f697-d12be4ac8af7"
      },
      "execution_count": 1,
      "outputs": [
        {
          "output_type": "stream",
          "name": "stdout",
          "text": [
            "['Jermy', 'justion', 'jack', 'BRI']\n",
            "Jermycan not make it\n"
          ]
        }
      ]
    },
    {
      "cell_type": "code",
      "source": [
        "friends = [\"Jermy\",\"justion\",\"jack\",\"BRI\"]\n",
        "len(friends)\n",
        "\n"
      ],
      "metadata": {
        "colab": {
          "base_uri": "https://localhost:8080/"
        },
        "id": "1bbxhc3EObXp",
        "outputId": "9f6bdfcb-17a0-48c3-ff2f-4a30aea07c84"
      },
      "execution_count": 2,
      "outputs": [
        {
          "output_type": "execute_result",
          "data": {
            "text/plain": [
              "4"
            ]
          },
          "metadata": {},
          "execution_count": 2
        }
      ]
    },
    {
      "cell_type": "code",
      "source": [
        "for i in range(60,85):\n",
        "  if i %7 == 0:\n",
        "    print(i)\n",
        "\n",
        "\n",
        "\n"
      ],
      "metadata": {
        "colab": {
          "base_uri": "https://localhost:8080/"
        },
        "id": "cnkYuvpPO2jx",
        "outputId": "003ab580-f74e-4a2e-a522-8301547f53c1"
      },
      "execution_count": 4,
      "outputs": [
        {
          "output_type": "stream",
          "name": "stdout",
          "text": [
            "63\n",
            "70\n",
            "77\n",
            "84\n"
          ]
        }
      ]
    },
    {
      "cell_type": "code",
      "source": [
        "x = [40, 50, 120, -8,6]\n",
        "for i in x:\n",
        "  print(7.4*i + 51)"
      ],
      "metadata": {
        "colab": {
          "base_uri": "https://localhost:8080/"
        },
        "id": "D5RR3IaiPZ3c",
        "outputId": "738c1f0d-f19d-49c5-d892-66ba35d66549"
      },
      "execution_count": 5,
      "outputs": [
        {
          "output_type": "stream",
          "name": "stdout",
          "text": [
            "347.0\n",
            "421.0\n",
            "939.0\n",
            "-8.200000000000003\n",
            "95.4\n"
          ]
        }
      ]
    }
  ]
}