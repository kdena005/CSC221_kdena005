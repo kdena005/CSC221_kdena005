{
  "nbformat": 4,
  "nbformat_minor": 0,
  "metadata": {
    "colab": {
      "provenance": [],
      "authorship_tag": "ABX9TyMe4fjoebzUNVwE+A2BoDPI",
      "include_colab_link": true
    },
    "kernelspec": {
      "name": "python3",
      "display_name": "Python 3"
    },
    "language_info": {
      "name": "python"
    }
  },
  "cells": [
    {
      "cell_type": "markdown",
      "metadata": {
        "id": "view-in-github",
        "colab_type": "text"
      },
      "source": [
        "<a href=\"https://colab.research.google.com/github/kdena005/CSC221_kdena005/blob/main/Assignment6.ipynb\" target=\"_parent\"><img src=\"https://colab.research.google.com/assets/colab-badge.svg\" alt=\"Open In Colab\"/></a>"
      ]
    },
    {
      "cell_type": "code",
      "execution_count": 1,
      "metadata": {
        "colab": {
          "base_uri": "https://localhost:8080/"
        },
        "id": "SdYbHqGzI98P",
        "outputId": "a9734c4a-3eaa-4670-8f94-d2fc1126eba4"
      },
      "outputs": [
        {
          "output_type": "stream",
          "name": "stdout",
          "text": [
            "Is the car == 'honda' ? i predict True.\n",
            "True\n"
          ]
        }
      ],
      "source": [
        "car = 'honda'\n",
        "print(\"Is the car == 'honda' ? i predict True.\")\n",
        "print(car == 'honda')\n",
        "\n",
        "print( \"\\nIf the car == 'Audi' ? i predict False.\")\n",
        "print(car == 'Audi')\n",
        "\n",
        "carmodel = 'civic'\n",
        "print(\"Is the car == 'civic' ? i predict True.\")\n",
        "print(carmodel == 'civic')\n",
        "\n",
        "print(\"\\nIf the car == 'Q4' ? i predict False.\")\n",
        "print(carmodel == 'Q4')\n"
      ]
    },
    {
      "cell_type": "code",
      "source": [
        "5-1"
      ],
      "metadata": {
        "id": "kqC0dNyjLtL5"
      },
      "execution_count": null,
      "outputs": []
    },
    {
      "cell_type": "code",
      "source": [
        "print(\"a\" == \"a\")\n",
        "print(\"A\" == \"a\")\n",
        "print((\"A\").lower()== \"a\")\n",
        "print((\"A\").lower()== \"A\")\n",
        "\n",
        "print(1 < 1)\n",
        "print(1 <= 1)\n",
        "\n",
        "print(1==1 and 1 == 0)\n",
        "print(1==1 or 1 == 0)\n",
        "\n",
        "x = []\n",
        "y = 1\n",
        "print(isinstance(x, list))\n",
        "print(isinstance(y, list))\n",
        "print(not(isinstance(y, list)))\n",
        "\n",
        "\n",
        "\n"
      ],
      "metadata": {
        "id": "fdo6IuivJBwg"
      },
      "execution_count": null,
      "outputs": []
    },
    {
      "cell_type": "code",
      "source": [
        "5.2"
      ],
      "metadata": {
        "id": "OpQxXQvPOj55"
      },
      "execution_count": null,
      "outputs": []
    },
    {
      "cell_type": "code",
      "source": [
        "#alien_color = ['green', 'yellow', 'red']\n",
        "alien_color = \"green\"\n",
        "if alien_color ==\"green\":\n",
        "  print(\"you earned 5 points\")\n",
        "alien_color = \"red\"\n",
        "if alien_color ==\"green\":\n",
        "  print(\"you earned 5 points\")\n",
        "\n",
        "\n"
      ],
      "metadata": {
        "colab": {
          "base_uri": "https://localhost:8080/"
        },
        "id": "U9jGedgpOld6",
        "outputId": "104ac8cc-4801-4ed6-d786-72bb4bcb95d4"
      },
      "execution_count": 12,
      "outputs": [
        {
          "output_type": "stream",
          "name": "stdout",
          "text": [
            "you earned 5 points\n"
          ]
        }
      ]
    },
    {
      "cell_type": "code",
      "source": [
        "5.3"
      ],
      "metadata": {
        "id": "aHuj5D0JQwFy"
      },
      "execution_count": null,
      "outputs": []
    },
    {
      "cell_type": "code",
      "source": [
        "age = 20\n",
        "if age < 2:\n",
        "  print(\"that person is a baby\")\n",
        "elif age >= 2 and age < 4:\n",
        "  print(\"that person is a toddler\")\n",
        "elif age >= 4 and age <13:\n",
        "  print(\"that person is a kid\")\n",
        "elif age >= 13 and age <20:\n",
        "  print(\"that person is a teenager\")\n",
        "elif age >=20 and age <65:\n",
        "  print(\"that person is a adult\")\n",
        "else:\n",
        "  print(\"that person is an elder\")\n",
        "\n",
        "\n"
      ],
      "metadata": {
        "id": "Ih5KFpiiQxNq"
      },
      "execution_count": null,
      "outputs": []
    },
    {
      "cell_type": "code",
      "source": [],
      "metadata": {
        "id": "X7-evV_3S1uQ"
      },
      "execution_count": null,
      "outputs": []
    }
  ]
}