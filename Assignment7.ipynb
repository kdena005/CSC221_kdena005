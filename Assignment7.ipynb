{
  "nbformat": 4,
  "nbformat_minor": 0,
  "metadata": {
    "colab": {
      "provenance": [],
      "authorship_tag": "ABX9TyMRpQBPw/Qj9VPrjxJXF6CV",
      "include_colab_link": true
    },
    "kernelspec": {
      "name": "python3",
      "display_name": "Python 3"
    },
    "language_info": {
      "name": "python"
    }
  },
  "cells": [
    {
      "cell_type": "markdown",
      "metadata": {
        "id": "view-in-github",
        "colab_type": "text"
      },
      "source": [
        "<a href=\"https://colab.research.google.com/github/kdena005/CSC221_kdena005/blob/main/Assignment7.ipynb\" target=\"_parent\"><img src=\"https://colab.research.google.com/assets/colab-badge.svg\" alt=\"Open In Colab\"/></a>"
      ]
    },
    {
      "cell_type": "code",
      "execution_count": null,
      "metadata": {
        "id": "oqewpiSeTNW3"
      },
      "outputs": [],
      "source": [
        "Keith = {\"first_name\": 'Keith', \"last_name\": 'Denarie', \"age\": '20', \"city\":'Kingston'}\n"
      ]
    },
    {
      "cell_type": "code",
      "source": [
        "favorite_number = {\"joe\": '6', \"jeff\": '7', \"james\": '89', \"jeliel\":'1'}\n",
        "for i in favorite_number:\n",
        "  print(i, \"s favorite number is \", favorite_number[i])"
      ],
      "metadata": {
        "colab": {
          "base_uri": "https://localhost:8080/"
        },
        "id": "U3km2NvsU-9C",
        "outputId": "acc067cb-7111-450d-fc18-4895edfbc24a"
      },
      "execution_count": 1,
      "outputs": [
        {
          "output_type": "stream",
          "name": "stdout",
          "text": [
            "joe s favorite number is  6\n",
            "jeff s favorite number is  7\n",
            "james s favorite number is  89\n",
            "jeliel s favorite number is  1\n"
          ]
        }
      ]
    },
    {
      "cell_type": "code",
      "source": [
        "glossary = {\"variable\": 'stores a value', \"list\": 'stores items like objects', \"mutable\": 'can change'}\n",
        "for i in glossary:\n",
        "  print(i, \" meaning: \" , glossary[i])"
      ],
      "metadata": {
        "colab": {
          "base_uri": "https://localhost:8080/"
        },
        "id": "1o645UkqVyw7",
        "outputId": "52ff54c3-b540-47bf-9cc9-596fbcc9b9fd"
      },
      "execution_count": 3,
      "outputs": [
        {
          "output_type": "stream",
          "name": "stdout",
          "text": [
            "variable  meaning:  stores a value\n",
            "list  meaning:  stores items like objects\n",
            "mutable  meaning:  can change\n"
          ]
        }
      ]
    },
    {
      "cell_type": "code",
      "source": [
        "cities = {\"nyc\":[\"8 million people\", \"U.S.\", \"911 happened their\"], \"los angeles\":[\"3 million people\", \"U.S\", \"foot ball team called rams\"], \"houston\":[\"2 milion peopl\", \"U.S\", \"good smoked food\"]}\n",
        "for i in cities:\n",
        "  print(\"the citie of \", i, \"has a population of\", cities[i][0], \"in the \", cities[i][1], \"and some fact about \", cities[i][2])\n",
        ""
      ],
      "metadata": {
        "colab": {
          "base_uri": "https://localhost:8080/"
        },
        "id": "YdBrEPx5XDVF",
        "outputId": "7c818cfa-8cc3-4489-f159-29c14e61fe20"
      },
      "execution_count": 10,
      "outputs": [
        {
          "output_type": "stream",
          "name": "stdout",
          "text": [
            "the citie of  nyc has a population of 8 million people in the  U.S. and some fact about  911 happened their\n",
            "the citie of  los angeles has a population of 3 million people in the  U.S and some fact about  foot ball team called rams\n",
            "the citie of  houston has a population of 2 milion peopl in the  U.S and some fact about  good smoked food\n"
          ]
        }
      ]
    },
    {
      "cell_type": "code",
      "source": [
        "favorite_numberandcolor = {\"joe\": [6,\"blue\"], \"jeff\": [7,\"red\"], \"james\": [89,\"yellow\"], \"jeliel\":[1,\"purple\"]}\n",
        "for i in favorite_numberandcolor:\n",
        "  print(i, \"s favorite number is \", favorite_numberandcolor[i][0], \"favorite color is\", favorite_numberandcolor[i][1])"
      ],
      "metadata": {
        "colab": {
          "base_uri": "https://localhost:8080/"
        },
        "id": "Sa4X7NpmaTV0",
        "outputId": "9de47f6d-ff9a-4db0-a1f1-8716e920dd86"
      },
      "execution_count": 12,
      "outputs": [
        {
          "output_type": "stream",
          "name": "stdout",
          "text": [
            "joe s favorite number is  6 favorite color is blue\n",
            "jeff s favorite number is  7 favorite color is red\n",
            "james s favorite number is  89 favorite color is yellow\n",
            "jeliel s favorite number is  1 favorite color is purple\n"
          ]
        }
      ]
    }
  ]
}