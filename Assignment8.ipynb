{
  "nbformat": 4,
  "nbformat_minor": 0,
  "metadata": {
    "colab": {
      "provenance": [],
      "authorship_tag": "ABX9TyNhjhcyoc01kvoLes3vsK4r",
      "include_colab_link": true
    },
    "kernelspec": {
      "name": "python3",
      "display_name": "Python 3"
    },
    "language_info": {
      "name": "python"
    }
  },
  "cells": [
    {
      "cell_type": "markdown",
      "metadata": {
        "id": "view-in-github",
        "colab_type": "text"
      },
      "source": [
        "<a href=\"https://colab.research.google.com/github/kdena005/CSC221_kdena005/blob/main/Assignment8.ipynb\" target=\"_parent\"><img src=\"https://colab.research.google.com/assets/colab-badge.svg\" alt=\"Open In Colab\"/></a>"
      ]
    },
    {
      "cell_type": "code",
      "execution_count": null,
      "metadata": {
        "colab": {
          "base_uri": "https://localhost:8080/"
        },
        "id": "z5aIUAyhJJS0",
        "outputId": "134f3594-5766-442e-da2e-4a433a71043f"
      },
      "outputs": [
        {
          "output_type": "stream",
          "name": "stdout",
          "text": [
            "what rental car would you like: subaru\n",
            "I'll look for a subaru\n"
          ]
        }
      ],
      "source": [
        "#7.1\n",
        "car = input(\"what rental car would you like: \")\n",
        "print(\"I'll look for a \" + car)\n"
      ]
    },
    {
      "cell_type": "code",
      "source": [
        "number = input(\"what number do you choose ?: \")\n",
        "number = int(number)\n",
        "if number % 10 == 0:\n",
        "  print(\"your number is a multiple of 10\")\n",
        "else:\n",
        "  print(\"number is not a multiple of 10\")\n",
        "#7.3\n",
        "\n"
      ],
      "metadata": {
        "id": "0kflIxvuKwMH"
      },
      "execution_count": null,
      "outputs": []
    },
    {
      "cell_type": "code",
      "source": [
        "while True:\n",
        "  age = input(\"what is your age ? and enter -1 to exit \")\n",
        "  age = int(age)\n",
        "  if age == -1:\n",
        "    print(\"thank you\")\n",
        "    break\n",
        "  if age < 3:\n",
        "    print(\"your ticket cost 0 dollars\")\n",
        "  elif age >=3 and age <= 12:\n",
        "    print(\"your ticket is 10 dollars\")\n",
        "  else:\n",
        "    print(\"your ticket is 15 dollars\")\n",
        "    #7.5\n"
      ],
      "metadata": {
        "colab": {
          "base_uri": "https://localhost:8080/"
        },
        "id": "GqBA23hdLvKE",
        "outputId": "9d8e71ae-5fea-41d5-bf3c-8ad7c0917239"
      },
      "execution_count": null,
      "outputs": [
        {
          "output_type": "stream",
          "name": "stdout",
          "text": [
            "what is your age ? and enter -1 to exit 3\n",
            "your ticket is 10 dollars\n",
            "what is your age ? and enter -1 to exit 4\n",
            "your ticket is 10 dollars\n",
            "what is your age ? and enter -1 to exit -1\n",
            "thank you\n"
          ]
        }
      ]
    },
    {
      "cell_type": "code",
      "source": [
        "#7.6 used break for the loop in 7.5"
      ],
      "metadata": {
        "id": "O59_lwxDO0z7"
      },
      "execution_count": null,
      "outputs": []
    },
    {
      "cell_type": "code",
      "source": [
        "counter = 0\n",
        "while counter <= 3:\n",
        "\n",
        "  age = input(\"what is your age ? and enter -1 to exit \")\n",
        "  age = int(age)\n",
        "  if age == -1:\n",
        "    print(\"thank you\")\n",
        "    break\n",
        "  if age < 3:\n",
        "    print(\"your ticket cost 0 dollars\")\n",
        "  elif age >=3 and age <= 12:\n",
        "    print(\"your ticket is 10 dollars\")\n",
        "  else:\n",
        "    print(\"your ticket is 15 dollars\")\n",
        "  counter += 1\n",
        "\n",
        "age = 1000\n",
        "while age != -1:\n",
        "\n",
        "\n",
        "  age = input(\"what is your age ? and enter -1 to exit \")\n",
        "  age = int(age)\n",
        "  if age < 3:\n",
        "    print(\"your ticket cost 0 dollars\")\n",
        "  elif age >=3 and age <= 12:\n",
        "    print(\"your ticket is 10 dollars\")\n",
        "  else:\n",
        "    print(\"your ticket is 15 dollars\")\n"
      ],
      "metadata": {
        "id": "XlR7L0KcP9uJ"
      },
      "execution_count": null,
      "outputs": []
    },
    {
      "cell_type": "code",
      "source": [
        "sandwhichorder = [\"italian sub\", \"philly cheese steak\", \"pestrami ruben\"]\n",
        "finishedsandwhiches = []\n",
        "while len (sandwhichorder) != 0:\n",
        "  finishedsandwhiches.append(sandwhichorder.pop())\n",
        "  print(\"your \" + finishedsandwhiches[-1] + \" is done\")\n",
        "print(\"\\n\\n we made the following sandwhiches\")\n",
        "for i in finishedsandwhiches:\n",
        "  print(i)\n",
        "\n",
        "#7.8\n",
        "\n",
        "\n"
      ],
      "metadata": {
        "id": "M7br1LhQQ8gw",
        "colab": {
          "base_uri": "https://localhost:8080/"
        },
        "outputId": "656c6240-acfc-4162-da82-b6ef367ffcae"
      },
      "execution_count": 12,
      "outputs": [
        {
          "output_type": "stream",
          "name": "stdout",
          "text": [
            "your pestrami ruben is done\n",
            "your philly cheese steak is done\n",
            "your italian sub is done\n",
            "\n",
            "\n",
            " we made the following sandwhiches\n",
            "pestrami ruben\n",
            "philly cheese steak\n",
            "italian sub\n"
          ]
        }
      ]
    },
    {
      "cell_type": "code",
      "source": [
        "sum = 0\n",
        "operation = \"+\"\n",
        "print(\"enter exit into operation to exit\")\n",
        "while True:\n",
        "  x= int(input(\">\"))\n",
        "  operation1 = input(\">\")\n",
        "  if operation1 == \"exit\":\n",
        "    break\n",
        "  if operation1:\n",
        "    operation = operation1\n",
        "  if operation == \"+\":\n",
        "    sum += x\n",
        "  elif operation == \"*\":\n",
        "    sum *= x\n",
        "  elif operation == \"-\":\n",
        "    sum -= x\n",
        "  else:\n",
        "    sum /= x\n",
        "  print(sum)"
      ],
      "metadata": {
        "colab": {
          "base_uri": "https://localhost:8080/"
        },
        "id": "jR03TisVUu40",
        "outputId": "d14964e1-e3ed-49d5-d571-7e192465e3fe"
      },
      "execution_count": null,
      "outputs": [
        {
          "output_type": "stream",
          "name": "stdout",
          "text": [
            "enter exit into operation to exit\n",
            ">9\n",
            ">\n",
            "9\n",
            ">89\n",
            ">*\n",
            "801\n"
          ]
        }
      ]
    }
  ]
}