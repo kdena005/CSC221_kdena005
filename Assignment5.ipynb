{
  "nbformat": 4,
  "nbformat_minor": 0,
  "metadata": {
    "colab": {
      "provenance": [],
      "authorship_tag": "ABX9TyNtETn31UlR2AVDw+6Tx1ZR",
      "include_colab_link": true
    },
    "kernelspec": {
      "name": "python3",
      "display_name": "Python 3"
    },
    "language_info": {
      "name": "python"
    }
  },
  "cells": [
    {
      "cell_type": "markdown",
      "metadata": {
        "id": "view-in-github",
        "colab_type": "text"
      },
      "source": [
        "<a href=\"https://colab.research.google.com/github/kdena005/CSC221_kdena005/blob/main/Assignment5.ipynb\" target=\"_parent\"><img src=\"https://colab.research.google.com/assets/colab-badge.svg\" alt=\"Open In Colab\"/></a>"
      ]
    },
    {
      "cell_type": "code",
      "execution_count": null,
      "metadata": {
        "id": "I-Khxtn87HYx"
      },
      "outputs": [],
      "source": [
        "#try it your self\n",
        "\n"
      ]
    },
    {
      "cell_type": "code",
      "source": [
        "for i in range(1,21):\n",
        "  print(i)\n",
        "\n"
      ],
      "metadata": {
        "colab": {
          "base_uri": "https://localhost:8080/"
        },
        "id": "WYTXIPnH717m",
        "outputId": "0e0ea5e5-351c-40e7-aaa1-832a9a85f1d8"
      },
      "execution_count": 1,
      "outputs": [
        {
          "output_type": "stream",
          "name": "stdout",
          "text": [
            "1\n",
            "2\n",
            "3\n",
            "4\n",
            "5\n",
            "6\n",
            "7\n",
            "8\n",
            "9\n",
            "10\n",
            "11\n",
            "12\n",
            "13\n",
            "14\n",
            "15\n",
            "16\n",
            "17\n",
            "18\n",
            "19\n",
            "20\n"
          ]
        }
      ]
    },
    {
      "cell_type": "code",
      "source": [],
      "metadata": {
        "id": "EOl-Yz6L8MNm"
      },
      "execution_count": null,
      "outputs": []
    },
    {
      "cell_type": "code",
      "source": [
        "x = [\"bbq chicken\",\"plain\",\"peporoni\"]\n",
        "for i in x:\n",
        "  print(\"i like\" , i , \"pizza\")\n",
        "\n"
      ],
      "metadata": {
        "colab": {
          "base_uri": "https://localhost:8080/"
        },
        "id": "-RtlLWHw8UCK",
        "outputId": "8f1bbfee-71e6-445c-e2bf-37a40bbf78ba"
      },
      "execution_count": 4,
      "outputs": [
        {
          "output_type": "stream",
          "name": "stdout",
          "text": [
            "i like bbq chicken pizza\n",
            "i like plain pizza\n",
            "i like peporoni pizza\n"
          ]
        }
      ]
    },
    {
      "cell_type": "code",
      "source": [
        "# redundent because repeitive moving on."
      ],
      "metadata": {
        "id": "ehFSaP_Y9aTK"
      },
      "execution_count": null,
      "outputs": []
    },
    {
      "cell_type": "code",
      "source": [
        "def factorial(n):\n",
        "  llist = [x+1 for x in range (n)]\n",
        "  answer = 1\n",
        "  for i in llist:\n",
        "    answer = i*answer\n",
        "  return answer\n",
        "\n",
        "print(factorial(5))\n",
        "\n",
        "\n",
        ""
      ],
      "metadata": {
        "colab": {
          "base_uri": "https://localhost:8080/"
        },
        "id": "y-kywvUH9hPL",
        "outputId": "4bb53fd7-0b8f-41ba-840d-25b0a8fa2441"
      },
      "execution_count": 10,
      "outputs": [
        {
          "output_type": "stream",
          "name": "stdout",
          "text": [
            "120\n"
          ]
        }
      ]
    },
    {
      "cell_type": "code",
      "source": [
        "def specialfactorial(n):\n",
        "  llist = [x+1 for x in range (n)]\n",
        "  answer = 1\n",
        "  for i in llist:\n",
        "    if i in [4,13,22]:\n",
        "      continue\n",
        "    answer = i*answer\n",
        "  return answer\n",
        "print(specialfactorial(5))\n",
        "\n"
      ],
      "metadata": {
        "colab": {
          "base_uri": "https://localhost:8080/"
        },
        "id": "GV7xUss6-wnB",
        "outputId": "058605e6-004e-4dd0-d6b0-f830e9c2ceab"
      },
      "execution_count": 14,
      "outputs": [
        {
          "output_type": "stream",
          "name": "stdout",
          "text": [
            "30\n"
          ]
        }
      ]
    }
  ]
}