{
  "nbformat": 4,
  "nbformat_minor": 0,
  "metadata": {
    "colab": {
      "provenance": [],
      "authorship_tag": "ABX9TyM32JRb8g4VBNNf4Iof8UOP",
      "include_colab_link": true
    },
    "kernelspec": {
      "name": "python3",
      "display_name": "Python 3"
    },
    "language_info": {
      "name": "python"
    }
  },
  "cells": [
    {
      "cell_type": "markdown",
      "metadata": {
        "id": "view-in-github",
        "colab_type": "text"
      },
      "source": [
        "<a href=\"https://colab.research.google.com/github/kdena005/CSC221_kdena005/blob/main/Assignment3.ipynb\" target=\"_parent\"><img src=\"https://colab.research.google.com/assets/colab-badge.svg\" alt=\"Open In Colab\"/></a>"
      ]
    },
    {
      "cell_type": "code",
      "execution_count": null,
      "metadata": {
        "colab": {
          "base_uri": "https://localhost:8080/"
        },
        "id": "dau_zH6mDuRq",
        "outputId": "0534613f-f93d-44d7-ebe2-a7473e62b4cd"
      },
      "outputs": [
        {
          "output_type": "stream",
          "name": "stdout",
          "text": [
            "hi\n"
          ]
        }
      ],
      "source": [
        "x = \"hi\"\n",
        "print(x)\n"
      ]
    },
    {
      "cell_type": "code",
      "source": [
        "x = \"hi\"\n",
        "print(x)\n",
        "x = \"bye\"\n",
        "print(x)\n",
        "\n",
        "#comment 1"
      ],
      "metadata": {
        "id": "BhqfIc4CFkWQ"
      },
      "execution_count": null,
      "outputs": []
    },
    {
      "cell_type": "code",
      "source": [
        "x = \"joe\"\n",
        "print(\"hello  \" +  x)"
      ],
      "metadata": {
        "colab": {
          "base_uri": "https://localhost:8080/"
        },
        "id": "qXWuQ0yUGQPZ",
        "outputId": "69ba5641-cc85-4ce4-ce2d-448f07b15b62"
      },
      "execution_count": null,
      "outputs": [
        {
          "output_type": "stream",
          "name": "stdout",
          "text": [
            "hello  joe\n"
          ]
        }
      ]
    },
    {
      "cell_type": "code",
      "source": [
        "name = \"Keith\"\n",
        "print(name.upper())\n",
        "print(name.lower())\n",
        "print(name.title())\n",
        "#comment 3"
      ],
      "metadata": {
        "colab": {
          "base_uri": "https://localhost:8080/"
        },
        "id": "tjrjl3raG5BJ",
        "outputId": "3564a2cf-1ed4-4283-a8e1-06bd0284de36"
      },
      "execution_count": null,
      "outputs": [
        {
          "output_type": "stream",
          "name": "stdout",
          "text": [
            "KEITH\n",
            "keith\n",
            "Keith\n"
          ]
        }
      ]
    },
    {
      "cell_type": "code",
      "source": [
        "print(\"Albert Einstien once said 'Life is like riding a bicycle. To keep your balance, you must keep moving.'\")"
      ],
      "metadata": {
        "colab": {
          "base_uri": "https://localhost:8080/"
        },
        "id": "HBKpMIW-HqQN",
        "outputId": "4bee7789-df50-4955-f73e-aaea9c659319"
      },
      "execution_count": null,
      "outputs": [
        {
          "output_type": "stream",
          "name": "stdout",
          "text": [
            "Albert Einstien once said 'Life is like riding a bicycle. To keep your balance, you must keep moving.'\n"
          ]
        }
      ]
    },
    {
      "cell_type": "code",
      "source": [
        "famous_person = \"Albert Einstien\"\n",
        "print(famous_person + \"once said 'Life is like riding a bicycle. To keep your balance, you must keep moving.'\")"
      ],
      "metadata": {
        "colab": {
          "base_uri": "https://localhost:8080/"
        },
        "id": "RGvXgoZzIeS4",
        "outputId": "306286ae-add1-4c98-e897-1583d175d92d"
      },
      "execution_count": null,
      "outputs": [
        {
          "output_type": "stream",
          "name": "stdout",
          "text": [
            "Albert Einstienonce said 'Life is like riding a bicycle. To keep your balance, you must keep moving.'\n"
          ]
        }
      ]
    },
    {
      "cell_type": "code",
      "source": [
        "famous_person = \"Albert Einstien\"\n",
        "print(famous_person + \"\\t once said \\n'Life is like riding a bicycle. To keep your balance, you must keep moving.'\")"
      ],
      "metadata": {
        "colab": {
          "base_uri": "https://localhost:8080/"
        },
        "id": "qwvvshTdI3d9",
        "outputId": "4fd8b6b5-3eb9-4f83-f526-85f531b3010f"
      },
      "execution_count": null,
      "outputs": [
        {
          "output_type": "stream",
          "name": "stdout",
          "text": [
            "Albert Einstien\t once said \n",
            "'Life is like riding a bicycle. To keep your balance, you must keep moving.'\n"
          ]
        }
      ]
    },
    {
      "cell_type": "code",
      "source": [
        "filename = \"python_notes.txt\"\n",
        "print(filename.removesuffix(\".txt\"))\n"
      ],
      "metadata": {
        "colab": {
          "base_uri": "https://localhost:8080/"
        },
        "id": "nwt86IBTJK6Z",
        "outputId": "b0eb9a28-559d-4167-c5d8-156685f956ee"
      },
      "execution_count": null,
      "outputs": [
        {
          "output_type": "stream",
          "name": "stdout",
          "text": [
            "python_notes\n"
          ]
        }
      ]
    },
    {
      "cell_type": "code",
      "source": [
        "print(5+3)\n",
        "print(16-8)\n",
        "print(64/8)\n",
        "print(4*2)"
      ],
      "metadata": {
        "colab": {
          "base_uri": "https://localhost:8080/"
        },
        "id": "ZhCmOpcSKmF7",
        "outputId": "785c3f8f-cebc-4a38-9f34-ceaf125ede34"
      },
      "execution_count": null,
      "outputs": [
        {
          "output_type": "stream",
          "name": "stdout",
          "text": [
            "8\n",
            "8\n",
            "8.0\n",
            "8\n"
          ]
        }
      ]
    },
    {
      "cell_type": "code",
      "source": [
        "x = 7\n",
        "print(\"my favorite number is\"  + str (x))"
      ],
      "metadata": {
        "colab": {
          "base_uri": "https://localhost:8080/"
        },
        "id": "6GIKah7lK8yh",
        "outputId": "97f57f7f-7b25-415a-d8cc-08088d1f68a4"
      },
      "execution_count": null,
      "outputs": [
        {
          "output_type": "stream",
          "name": "stdout",
          "text": [
            "my favorite number is7\n"
          ]
        }
      ]
    },
    {
      "cell_type": "code",
      "source": [],
      "metadata": {
        "id": "n1WTAQGLLR8d"
      },
      "execution_count": null,
      "outputs": []
    }
  ]
}